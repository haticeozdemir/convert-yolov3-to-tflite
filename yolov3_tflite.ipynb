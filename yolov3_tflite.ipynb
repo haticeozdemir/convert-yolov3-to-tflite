{
  "nbformat": 4,
  "nbformat_minor": 0,
  "metadata": {
    "colab": {
      "name": "Untitled0.ipynb",
      "provenance": [],
      "collapsed_sections": []
    },
    "kernelspec": {
      "name": "python3",
      "display_name": "Python 3"
    },
    "language_info": {
      "name": "python"
    }
  },
  "cells": [
    {
      "cell_type": "markdown",
      "source": [
        "Create a folder in Drive. This folder should contain your training weight and classes.txt files that you created with Yolov3."
      ],
      "metadata": {
        "id": "K4lnstwJ11iL"
      }
    },
    {
      "cell_type": "code",
      "source": [
        "%tensorflow_version 1.x"
      ],
      "metadata": {
        "colab": {
          "base_uri": "https://localhost:8080/"
        },
        "id": "_wcFS2sZ6okU",
        "outputId": "725eb9b1-c041-4013-8720-3e9edc3969cc"
      },
      "execution_count": 2,
      "outputs": [
        {
          "output_type": "stream",
          "name": "stdout",
          "text": [
            "TensorFlow 1.x selected.\n"
          ]
        }
      ]
    },
    {
      "cell_type": "code",
      "source": [
        "import tensorflow as tf\n",
        "print(tf.__version__)"
      ],
      "metadata": {
        "colab": {
          "base_uri": "https://localhost:8080/"
        },
        "id": "USSqvcey6rFN",
        "outputId": "99dd9c57-fecf-46be-f884-44331d6b1c4b"
      },
      "execution_count": 3,
      "outputs": [
        {
          "output_type": "stream",
          "name": "stdout",
          "text": [
            "1.15.2\n"
          ]
        }
      ]
    },
    {
      "cell_type": "code",
      "source": [
        "!git clone https://github.com/mystic123/tensorflow-yolo-v3"
      ],
      "metadata": {
        "colab": {
          "base_uri": "https://localhost:8080/"
        },
        "id": "Nz1oYlLu6vbq",
        "outputId": "ae5ac8cd-c614-4fa9-d3f6-d44dc67eaff4"
      },
      "execution_count": 4,
      "outputs": [
        {
          "output_type": "stream",
          "name": "stdout",
          "text": [
            "Cloning into 'tensorflow-yolo-v3'...\n",
            "remote: Enumerating objects: 219, done.\u001b[K\n",
            "remote: Total 219 (delta 0), reused 0 (delta 0), pack-reused 219\u001b[K\n",
            "Receiving objects: 100% (219/219), 57.63 KiB | 5.24 MiB/s, done.\n",
            "Resolving deltas: 100% (112/112), done.\n"
          ]
        }
      ]
    },
    {
      "cell_type": "code",
      "source": [
        "\n",
        "from google.colab import drive\n",
        "drive.mount('/content/gdrive')"
      ],
      "metadata": {
        "colab": {
          "base_uri": "https://localhost:8080/"
        },
        "id": "IX27FI8t60a9",
        "outputId": "f2d6336b-6b31-4f49-d796-1429fc3ff8bb"
      },
      "execution_count": 5,
      "outputs": [
        {
          "output_type": "stream",
          "name": "stdout",
          "text": [
            "Mounted at /content/gdrive\n"
          ]
        }
      ]
    },
    {
      "cell_type": "code",
      "source": [
        "!ln -s /content/gdrive/My \\ Drive/ /MyDrive\n",
        "!ls /MyDrive"
      ],
      "metadata": {
        "colab": {
          "base_uri": "https://localhost:8080/"
        },
        "id": "Eo8AjGfQ66h-",
        "outputId": "d9788cda-bece-4ae5-c60f-ddb77805f001"
      },
      "execution_count": 9,
      "outputs": [
        {
          "output_type": "stream",
          "name": "stdout",
          "text": [
            "ln: target '/MyDrive' is not a directory\n",
            "ls: cannot access '/MyDrive': No such file or directory\n"
          ]
        }
      ]
    },
    {
      "cell_type": "code",
      "source": [
        "%cd tensorflow-yolo-v3/"
      ],
      "metadata": {
        "colab": {
          "base_uri": "https://localhost:8080/"
        },
        "id": "WVmEmgoi6_eO",
        "outputId": "76c5fbd8-aa02-4551-c088-7aca4c5c5ca6"
      },
      "execution_count": 7,
      "outputs": [
        {
          "output_type": "stream",
          "name": "stdout",
          "text": [
            "/content/tensorflow-yolo-v3\n"
          ]
        }
      ]
    },
    {
      "cell_type": "markdown",
      "source": [
        "Let's right click for each file you created in Drive, click get link and get the share IDs of the files."
      ],
      "metadata": {
        "id": "I4uZLreS2Xwr"
      }
    },
    {
      "cell_type": "code",
      "source": [
        "!gdown --id 167OvBj6UB6bL8gF_Hp-G_pPFbkjuwQ-- #classes.txt\n",
        "!gdown --id 1bItb-EnLf1QnZM434zH7w3ykOpa9n9ec #weights"
      ],
      "metadata": {
        "colab": {
          "base_uri": "https://localhost:8080/"
        },
        "id": "7VaPI-zG7GOh",
        "outputId": "c1a60c34-a8d6-4d29-bfe6-ee31dfad51d9"
      },
      "execution_count": 13,
      "outputs": [
        {
          "output_type": "stream",
          "name": "stdout",
          "text": [
            "Downloading...\n",
            "From: https://drive.google.com/uc?id=167OvBj6UB6bL8gF_Hp-G_pPFbkjuwQ--\n",
            "To: /content/tensorflow-yolo-v3/classes.txt\n",
            "100% 273/273 [00:00<00:00, 231kB/s]\n",
            "Downloading...\n",
            "From: https://drive.google.com/uc?id=1bItb-EnLf1QnZM434zH7w3ykOpa9n9ec\n",
            "To: /content/tensorflow-yolo-v3/yolov3_custom_last.weights\n",
            "100% 247M/247M [00:01<00:00, 195MB/s]\n"
          ]
        }
      ]
    },
    {
      "cell_type": "markdown",
      "source": [
        "After running the cell below, a .pb file named frozen should be created. If there is an error, there are a few lines of space at the bottom of our classes.txt file."
      ],
      "metadata": {
        "id": "VhyF-8cR2ykL"
      }
    },
    {
      "cell_type": "code",
      "source": [
        "!python convert_weights_pb.py --class_names \"/content/tensorflow-yolo-v3/classes.txt\" --weights_file \"/content/tensorflow-yolo-v3/yolov3_custom_last.weights\" --data_format \"NHWC\""
      ],
      "metadata": {
        "colab": {
          "base_uri": "https://localhost:8080/"
        },
        "id": "yImjD1kZ8cGx",
        "outputId": "81ac9be4-3adf-4a2c-b5e1-5c6b9c80f8ae"
      },
      "execution_count": 16,
      "outputs": [
        {
          "output_type": "stream",
          "name": "stdout",
          "text": [
            "WARNING:tensorflow:\n",
            "The TensorFlow contrib module will not be included in TensorFlow 2.0.\n",
            "For more information, please see:\n",
            "  * https://github.com/tensorflow/community/blob/master/rfcs/20180907-contrib-sunset.md\n",
            "  * https://github.com/tensorflow/addons\n",
            "  * https://github.com/tensorflow/io (for I/O related ops)\n",
            "If you depend on functionality not listed there, please file an issue.\n",
            "\n",
            "WARNING:tensorflow:From convert_weights_pb.py:56: The name tf.app.run is deprecated. Please use tf.compat.v1.app.run instead.\n",
            "\n",
            "WARNING:tensorflow:From convert_weights_pb.py:42: The name tf.placeholder is deprecated. Please use tf.compat.v1.placeholder instead.\n",
            "\n",
            "W1214 06:48:20.563391 140058383775616 module_wrapper.py:139] From convert_weights_pb.py:42: The name tf.placeholder is deprecated. Please use tf.compat.v1.placeholder instead.\n",
            "\n",
            "WARNING:tensorflow:From convert_weights_pb.py:44: The name tf.variable_scope is deprecated. Please use tf.compat.v1.variable_scope instead.\n",
            "\n",
            "W1214 06:48:20.565326 140058383775616 module_wrapper.py:139] From convert_weights_pb.py:44: The name tf.variable_scope is deprecated. Please use tf.compat.v1.variable_scope instead.\n",
            "\n",
            "WARNING:tensorflow:From /tensorflow-1.15.2/python3.7/tensorflow_core/contrib/layers/python/layers/layers.py:1057: Layer.apply (from tensorflow.python.keras.engine.base_layer) is deprecated and will be removed in a future version.\n",
            "Instructions for updating:\n",
            "Please use `layer.__call__` method instead.\n",
            "W1214 06:48:20.568203 140058383775616 deprecation.py:323] From /tensorflow-1.15.2/python3.7/tensorflow_core/contrib/layers/python/layers/layers.py:1057: Layer.apply (from tensorflow.python.keras.engine.base_layer) is deprecated and will be removed in a future version.\n",
            "Instructions for updating:\n",
            "Please use `layer.__call__` method instead.\n",
            "WARNING:tensorflow:From /content/tensorflow-yolo-v3/yolo_v3.py:193: The name tf.image.resize_nearest_neighbor is deprecated. Please use tf.compat.v1.image.resize_nearest_neighbor instead.\n",
            "\n",
            "W1214 06:48:22.539297 140058383775616 module_wrapper.py:139] From /content/tensorflow-yolo-v3/yolo_v3.py:193: The name tf.image.resize_nearest_neighbor is deprecated. Please use tf.compat.v1.image.resize_nearest_neighbor instead.\n",
            "\n",
            "WARNING:tensorflow:From convert_weights_pb.py:46: The name tf.global_variables is deprecated. Please use tf.compat.v1.global_variables instead.\n",
            "\n",
            "W1214 06:48:23.038357 140058383775616 module_wrapper.py:139] From convert_weights_pb.py:46: The name tf.global_variables is deprecated. Please use tf.compat.v1.global_variables instead.\n",
            "\n",
            "WARNING:tensorflow:From /content/tensorflow-yolo-v3/utils.py:93: The name tf.assign is deprecated. Please use tf.compat.v1.assign instead.\n",
            "\n",
            "W1214 06:48:23.121836 140058383775616 module_wrapper.py:139] From /content/tensorflow-yolo-v3/utils.py:93: The name tf.assign is deprecated. Please use tf.compat.v1.assign instead.\n",
            "\n",
            "WARNING:tensorflow:From convert_weights_pb.py:51: The name tf.Session is deprecated. Please use tf.compat.v1.Session instead.\n",
            "\n",
            "W1214 06:48:24.943904 140058383775616 module_wrapper.py:139] From convert_weights_pb.py:51: The name tf.Session is deprecated. Please use tf.compat.v1.Session instead.\n",
            "\n",
            "2021-12-14 06:48:24.974908: I tensorflow/stream_executor/platform/default/dso_loader.cc:44] Successfully opened dynamic library libcuda.so.1\n",
            "2021-12-14 06:48:25.033929: E tensorflow/stream_executor/cuda/cuda_driver.cc:318] failed call to cuInit: CUDA_ERROR_NO_DEVICE: no CUDA-capable device is detected\n",
            "2021-12-14 06:48:25.034005: I tensorflow/stream_executor/cuda/cuda_diagnostics.cc:156] kernel driver does not appear to be running on this host (4ba8011bc518): /proc/driver/nvidia/version does not exist\n",
            "2021-12-14 06:48:25.045531: I tensorflow/core/platform/profile_utils/cpu_utils.cc:94] CPU Frequency: 2200205000 Hz\n",
            "2021-12-14 06:48:25.046064: I tensorflow/compiler/xla/service/service.cc:168] XLA service 0x5645c26bb480 initialized for platform Host (this does not guarantee that XLA will be used). Devices:\n",
            "2021-12-14 06:48:25.046127: I tensorflow/compiler/xla/service/service.cc:176]   StreamExecutor device (0): Host, Default Version\n",
            "WARNING:tensorflow:From /content/tensorflow-yolo-v3/utils.py:52: The name tf.get_default_graph is deprecated. Please use tf.compat.v1.get_default_graph instead.\n",
            "\n",
            "W1214 06:48:27.089830 140058383775616 module_wrapper.py:139] From /content/tensorflow-yolo-v3/utils.py:52: The name tf.get_default_graph is deprecated. Please use tf.compat.v1.get_default_graph instead.\n",
            "\n",
            "WARNING:tensorflow:From /content/tensorflow-yolo-v3/utils.py:53: convert_variables_to_constants (from tensorflow.python.framework.graph_util_impl) is deprecated and will be removed in a future version.\n",
            "Instructions for updating:\n",
            "Use `tf.compat.v1.graph_util.convert_variables_to_constants`\n",
            "W1214 06:48:27.600744 140058383775616 deprecation.py:323] From /content/tensorflow-yolo-v3/utils.py:53: convert_variables_to_constants (from tensorflow.python.framework.graph_util_impl) is deprecated and will be removed in a future version.\n",
            "Instructions for updating:\n",
            "Use `tf.compat.v1.graph_util.convert_variables_to_constants`\n",
            "WARNING:tensorflow:From /tensorflow-1.15.2/python3.7/tensorflow_core/python/framework/graph_util_impl.py:277: extract_sub_graph (from tensorflow.python.framework.graph_util_impl) is deprecated and will be removed in a future version.\n",
            "Instructions for updating:\n",
            "Use `tf.compat.v1.graph_util.extract_sub_graph`\n",
            "W1214 06:48:27.601063 140058383775616 deprecation.py:323] From /tensorflow-1.15.2/python3.7/tensorflow_core/python/framework/graph_util_impl.py:277: extract_sub_graph (from tensorflow.python.framework.graph_util_impl) is deprecated and will be removed in a future version.\n",
            "Instructions for updating:\n",
            "Use `tf.compat.v1.graph_util.extract_sub_graph`\n",
            "INFO:tensorflow:Froze 366 variables.\n",
            "I1214 06:48:27.950419 140058383775616 graph_util_impl.py:334] Froze 366 variables.\n",
            "INFO:tensorflow:Converted 366 variables to const ops.\n",
            "I1214 06:48:28.228625 140058383775616 graph_util_impl.py:394] Converted 366 variables to const ops.\n",
            "WARNING:tensorflow:From /content/tensorflow-yolo-v3/utils.py:56: The name tf.gfile.GFile is deprecated. Please use tf.io.gfile.GFile instead.\n",
            "\n",
            "W1214 06:48:28.274306 140058383775616 module_wrapper.py:139] From /content/tensorflow-yolo-v3/utils.py:56: The name tf.gfile.GFile is deprecated. Please use tf.io.gfile.GFile instead.\n",
            "\n",
            "1186 ops written to frozen_darknet_yolov3_model.pb.\n"
          ]
        }
      ]
    },
    {
      "cell_type": "markdown",
      "source": [
        "Let's restart the runtime. and let's upgrade to tensorflow 2.x."
      ],
      "metadata": {
        "id": "d6jKYWnZ3QAh"
      }
    },
    {
      "cell_type": "code",
      "source": [
        "%tensorflow_version 2.x\n"
      ],
      "metadata": {
        "id": "6lVComOHAaYd"
      },
      "execution_count": 1,
      "outputs": []
    },
    {
      "cell_type": "code",
      "source": [
        "import tensorflow as tf\n",
        "print(tf.__version__)"
      ],
      "metadata": {
        "id": "LV-_Wdov-LLK",
        "colab": {
          "base_uri": "https://localhost:8080/"
        },
        "outputId": "f99815c3-eefc-4ba0-bb57-654780522cae"
      },
      "execution_count": 2,
      "outputs": [
        {
          "output_type": "stream",
          "name": "stdout",
          "text": [
            "2.7.0\n"
          ]
        }
      ]
    },
    {
      "cell_type": "code",
      "source": [
        "import tempfile\n",
        "import os\n",
        "import glob"
      ],
      "metadata": {
        "id": "SBgRKyxXtiSs"
      },
      "execution_count": 3,
      "outputs": []
    },
    {
      "cell_type": "code",
      "source": [
        "%cd tensorflow-yolo-v3"
      ],
      "metadata": {
        "colab": {
          "base_uri": "https://localhost:8080/"
        },
        "id": "B7F0pmJ3tp59",
        "outputId": "b2537559-52ec-4f65-aaf4-d7a82c7bd10d"
      },
      "execution_count": 4,
      "outputs": [
        {
          "output_type": "stream",
          "name": "stdout",
          "text": [
            "/content/tensorflow-yolo-v3\n"
          ]
        }
      ]
    },
    {
      "cell_type": "code",
      "source": [
        "import tensorflow.compat.v1 as tf\n",
        "gf=tf.GraphDef()\n",
        "m_file=open('/content/tensorflow-yolo-v3/frozen_darknet_yolov3_model.pb','rb')\n",
        "gf.ParseFromString(m_file.read())\n",
        "\n",
        "with open('somefile.txt','a') as the_file:\n",
        "  for n in gf.node:\n",
        "    the_file.write(n.name+'\\n')\n",
        "\n",
        "file=open('somefile.txt','r')\n",
        "data=file.readlines()\n",
        "output=data[len(data)-1]\n",
        "print(\"Output array:\",output)\n",
        "\n",
        "file.seek(0)\n",
        "input=file.readline()\n",
        "print(\"Input array\", input)"
      ],
      "metadata": {
        "colab": {
          "base_uri": "https://localhost:8080/"
        },
        "id": "m_XuLbMUuEL_",
        "outputId": "b5802992-4d63-4f3e-ad95-87400793510e"
      },
      "execution_count": 6,
      "outputs": [
        {
          "output_type": "stream",
          "name": "stdout",
          "text": [
            "Output array: output_boxes\n",
            "\n",
            "Input array inputs\n",
            "\n"
          ]
        }
      ]
    },
    {
      "cell_type": "code",
      "source": [
        "converter=tf.compat.v1.lite.TFLiteConverter.from_frozen_graph(\n",
        "    graph_def_file='/content/tensorflow-yolo-v3/frozen_darknet_yolov3_model.pb',\n",
        "    input_arrays=['inputs'],\n",
        "    output_arrays=['output_boxes'],\n",
        "    input_shapes={'inputs':[1,416,416,3]}\n",
        ")\n",
        "\n",
        "converter.optimizations=[tf.lite.Optimize.DEFAULT]\n",
        "\n",
        "tflite_model=converter.convert()\n",
        "\n",
        "_,dynamic_tflite_path=tempfile.mkstemp('.tflite')\n",
        "tflite_model_size=open(dynamic_tflite_path,'wb').write(tflite_model)\n",
        "tf_model_size=os.path.getsize('/content/tensorflow-yolo-v3/frozen_darknet_yolov3_model.pb')\n",
        "print('Tensorflow model is {} bytes'.format(tf_model_size))\n",
        "print('TF model is {} bytes'.format(tflite_model_size))\n",
        "print('Post training dynamic range quantization saves {} bytes'.format(tf_model_size-tflite_model_size))"
      ],
      "metadata": {
        "colab": {
          "base_uri": "https://localhost:8080/"
        },
        "id": "A-NHVHFAvSFQ",
        "outputId": "63b261c7-9b5c-403a-ea92-b4e1a8f96fe2"
      },
      "execution_count": 10,
      "outputs": [
        {
          "output_type": "stream",
          "name": "stderr",
          "text": [
            "WARNING:absl:Buffer deduplication procedure will be skipped when flatbuffer library is not properly loaded\n"
          ]
        },
        {
          "output_type": "stream",
          "name": "stdout",
          "text": [
            "Tensorflow model is 246986268 bytes\n",
            "TF model is 62474752 bytes\n",
            "Post training dynamic range quantization saves 184511516 bytes\n"
          ]
        }
      ]
    },
    {
      "cell_type": "markdown",
      "source": [
        ""
      ],
      "metadata": {
        "id": "2fZnesKY1q7t"
      }
    },
    {
      "cell_type": "code",
      "source": [
        "!ls -lh {dynamic_tflite_path}"
      ],
      "metadata": {
        "colab": {
          "base_uri": "https://localhost:8080/"
        },
        "id": "DHGoyqxCytee",
        "outputId": "0a03b5f9-33e4-40ff-a778-bae2416ef2ca"
      },
      "execution_count": 11,
      "outputs": [
        {
          "output_type": "stream",
          "name": "stdout",
          "text": [
            "-rw------- 1 root root 60M Dec 14 07:14 /tmp/tmpkngoal_k.tflite\n"
          ]
        }
      ]
    },
    {
      "cell_type": "code",
      "source": [
        "interpreter=tf.lite.Interpreter(model_path='/content/gdrive/MyDrive/TFLite_Yolov3/detect.tflite')\n",
        "\n",
        "input_details=interpreter.get_input_details()\n",
        "output_details=interpreter.get_output_details()"
      ],
      "metadata": {
        "id": "rMpWui6qyyX7"
      },
      "execution_count": 12,
      "outputs": []
    },
    {
      "cell_type": "markdown",
      "source": [
        "In our tmp folder, our weight with .tflite extension has been created."
      ],
      "metadata": {
        "id": "dBFdO6Vb3WKu"
      }
    },
    {
      "cell_type": "code",
      "source": [
        "input_details"
      ],
      "metadata": {
        "colab": {
          "base_uri": "https://localhost:8080/"
        },
        "id": "9K9GqwyAz042",
        "outputId": "c5a0e2a7-8106-4ace-a921-2d659dd3eb61"
      },
      "execution_count": 13,
      "outputs": [
        {
          "output_type": "execute_result",
          "data": {
            "text/plain": [
              "[{'dtype': numpy.float32,\n",
              "  'index': 0,\n",
              "  'name': 'inputs',\n",
              "  'quantization': (0.0, 0),\n",
              "  'quantization_parameters': {'quantized_dimension': 0,\n",
              "   'scales': array([], dtype=float32),\n",
              "   'zero_points': array([], dtype=int32)},\n",
              "  'shape': array([  1, 416, 416,   3], dtype=int32),\n",
              "  'shape_signature': array([  1, 416, 416,   3], dtype=int32),\n",
              "  'sparsity_parameters': {}}]"
            ]
          },
          "metadata": {},
          "execution_count": 13
        }
      ]
    },
    {
      "cell_type": "code",
      "source": [
        "output_details"
      ],
      "metadata": {
        "colab": {
          "base_uri": "https://localhost:8080/"
        },
        "id": "41dBHCLZz4Ck",
        "outputId": "ba0d718d-e861-4510-d2e0-748cf6c5248f"
      },
      "execution_count": 14,
      "outputs": [
        {
          "output_type": "execute_result",
          "data": {
            "text/plain": [
              "[{'dtype': numpy.float32,\n",
              "  'index': 407,\n",
              "  'name': 'output_boxes',\n",
              "  'quantization': (0.0, 0),\n",
              "  'quantization_parameters': {'quantized_dimension': 0,\n",
              "   'scales': array([], dtype=float32),\n",
              "   'zero_points': array([], dtype=int32)},\n",
              "  'shape': array([    1, 10647,    29], dtype=int32),\n",
              "  'shape_signature': array([    1, 10647,    29], dtype=int32),\n",
              "  'sparsity_parameters': {}}]"
            ]
          },
          "metadata": {},
          "execution_count": 14
        }
      ]
    }
  ]
}